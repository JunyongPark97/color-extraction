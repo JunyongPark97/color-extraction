{
 "cells": [
  {
   "cell_type": "code",
   "execution_count": 1,
   "metadata": {
    "scrolled": false
   },
   "outputs": [
    {
     "name": "stdout",
     "output_type": "stream",
     "text": [
      "Requirement already satisfied: colormap in /usr/local/var/pyenv/versions/3.7.4/envs/mondeique-data/lib/python3.7/site-packages (1.0.2)\r\n"
     ]
    }
   ],
   "source": [
    "!pip install colormap"
   ]
  },
  {
   "cell_type": "code",
   "execution_count": 2,
   "metadata": {
    "scrolled": false
   },
   "outputs": [
    {
     "name": "stdout",
     "output_type": "stream",
     "text": [
      "Requirement already satisfied: easydev in /usr/local/var/pyenv/versions/3.7.4/envs/mondeique-data/lib/python3.7/site-packages (0.9.38)\n",
      "Requirement already satisfied: colorama in /usr/local/var/pyenv/versions/3.7.4/envs/mondeique-data/lib/python3.7/site-packages (from easydev) (0.3.9)\n",
      "Requirement already satisfied: pexpect in /usr/local/var/pyenv/versions/3.7.4/envs/mondeique-data/lib/python3.7/site-packages (from easydev) (4.7.0)\n",
      "Requirement already satisfied: colorlog in /usr/local/var/pyenv/versions/3.7.4/envs/mondeique-data/lib/python3.7/site-packages (from easydev) (4.0.2)\n",
      "Requirement already satisfied: ptyprocess>=0.5 in /usr/local/var/pyenv/versions/3.7.4/envs/mondeique-data/lib/python3.7/site-packages (from pexpect->easydev) (0.6.0)\n"
     ]
    }
   ],
   "source": [
    "!pip install easydev"
   ]
  },
  {
   "cell_type": "code",
   "execution_count": 23,
   "metadata": {},
   "outputs": [],
   "source": [
    "import colorgram\n",
    "\n",
    "# Extract 6 colors from an image.\n",
    "colors = colorgram.extract('/Users/eren-shin/Desktop/color-extraction/4.jpg', 6)\n",
    "\n",
    "# colorgram.extract returns Color objects, which let you access\n",
    "# RGB, HSL, and what proportion of the image was that color.\n",
    "first_color = colors[0]\n",
    "rgb = first_color.rgb # e.g. (255, 151, 210)\n",
    "hsl = first_color.hsl # e.g. (230, 255, 203)\n",
    "proportion  = first_color.proportion # e.g. 0.34\n",
    "\n",
    "# RGB and HSL are named tuples, so values can be accessed as properties.\n",
    "# These all work just as well:\n",
    "red = rgb[0]\n",
    "red = rgb.r\n",
    "saturation = hsl[1]\n",
    "saturation = hsl.s"
   ]
  },
  {
   "cell_type": "code",
   "execution_count": 24,
   "metadata": {},
   "outputs": [
    {
     "data": {
      "text/plain": [
       "<colorgram.py Color: Rgb(r=78, g=49, b=38), 48.21097737727645%>"
      ]
     },
     "execution_count": 24,
     "metadata": {},
     "output_type": "execute_result"
    }
   ],
   "source": [
    "first_color"
   ]
  },
  {
   "cell_type": "code",
   "execution_count": 25,
   "metadata": {},
   "outputs": [
    {
     "data": {
      "text/plain": [
       "[<colorgram.py Color: Rgb(r=78, g=49, b=38), 48.21097737727645%>,\n",
       " <colorgram.py Color: Rgb(r=88, g=54, b=43), 26.159808431533175%>,\n",
       " <colorgram.py Color: Rgb(r=98, g=63, b=47), 25.50444262398387%>,\n",
       " <colorgram.py Color: Rgb(r=85, g=61, b=40), 0.06459134160942719%>,\n",
       " <colorgram.py Color: Rgb(r=62, g=40, b=42), 0.04253576154767156%>,\n",
       " <colorgram.py Color: Rgb(r=85, g=49, b=51), 0.0176444640494045%>]"
      ]
     },
     "execution_count": 25,
     "metadata": {},
     "output_type": "execute_result"
    }
   ],
   "source": [
    "colors"
   ]
  },
  {
   "cell_type": "markdown",
   "metadata": {},
   "source": [
    "## RGB to Hex code"
   ]
  },
  {
   "cell_type": "code",
   "execution_count": 26,
   "metadata": {},
   "outputs": [
    {
     "data": {
      "text/plain": [
       "'#4E3126'"
      ]
     },
     "execution_count": 26,
     "metadata": {},
     "output_type": "execute_result"
    }
   ],
   "source": [
    "from colormap import rgb2hex\n",
    "\n",
    "rgb2hex(rgb[0], rgb[1], rgb[2])"
   ]
  },
  {
   "cell_type": "markdown",
   "metadata": {},
   "source": [
    "## RGB to HSV code"
   ]
  },
  {
   "cell_type": "code",
   "execution_count": 27,
   "metadata": {},
   "outputs": [],
   "source": [
    "import colorsys\n",
    "\n",
    "Hue = colorsys.rgb_to_hsv(rgb[0]/255, rgb[1]/255, rgb[2]/255)[0]\n",
    "Saturation = colorsys.rgb_to_hsv(rgb[0]/255, rgb[1]/255, rgb[2]/255)[1]\n",
    "Value = colorsys.rgb_to_hsv(rgb[0]/255, rgb[1]/255, rgb[2]/255)[2]"
   ]
  },
  {
   "cell_type": "code",
   "execution_count": 28,
   "metadata": {},
   "outputs": [],
   "source": [
    "Hue = Hue * 360\n",
    "Saturation = Saturation * 100\n",
    "Value = Value * 100"
   ]
  },
  {
   "cell_type": "code",
   "execution_count": 29,
   "metadata": {
    "scrolled": true
   },
   "outputs": [
    {
     "name": "stdout",
     "output_type": "stream",
     "text": [
      "16.5\n",
      "51.28205128205129\n",
      "30.58823529411765\n"
     ]
    }
   ],
   "source": [
    "print(Hue)\n",
    "print(Saturation)\n",
    "print(Value)"
   ]
  },
  {
   "cell_type": "markdown",
   "metadata": {},
   "source": [
    "## Color Range Setting"
   ]
  },
  {
   "cell_type": "code",
   "execution_count": 30,
   "metadata": {},
   "outputs": [],
   "source": [
    "# We have Red/Pink/Orange/Yellow/Beige/Green/Blue/Navy/Purple/Brown/Black/White/Gray\n",
    "# H를 먼저 정한 뒤 S와 V를 조절하면서 색을 찾아나가도록 하자. \n",
    "# Beige와 Brown을 제외한 색은 Hue에 의해서만 결정된다고 가정하자. \n",
    "# 추가로 수정될 경우 그 때 수정하자. "
   ]
  },
  {
   "cell_type": "markdown",
   "metadata": {},
   "source": [
    "### Case 1 : Red"
   ]
  },
  {
   "cell_type": "code",
   "execution_count": 31,
   "metadata": {},
   "outputs": [],
   "source": [
    "# 0 <= Hue <= 15 and 345 <= Hue <= 360\n",
    "# Saturation > 15 and Value > 30\n",
    "if 0 <= Hue <= 15 and 345 <= Hue <=360 and Saturation > 15 and Value > 30:\n",
    "    print(\"It is Red\")"
   ]
  },
  {
   "cell_type": "markdown",
   "metadata": {},
   "source": [
    "### Case 2 : Pink"
   ]
  },
  {
   "cell_type": "code",
   "execution_count": 32,
   "metadata": {},
   "outputs": [],
   "source": [
    "# 315 <= Hue < 345\n",
    "# Saturation > 15 and Value > 30\n",
    "if 315 <= Hue <= 345 and Saturation > 15 and Value > 30:\n",
    "    print(\"It is Pink\")"
   ]
  },
  {
   "cell_type": "markdown",
   "metadata": {},
   "source": [
    "### Case 3 : Orange"
   ]
  },
  {
   "cell_type": "code",
   "execution_count": 33,
   "metadata": {},
   "outputs": [],
   "source": [
    "# 15 < Hue < 40\n",
    "# Saturation > 45 and Value > 30\n",
    "if 15 < Hue < 40 and Saturation > 45 and Value > 80:\n",
    "    print(\"It is Orange\")"
   ]
  },
  {
   "cell_type": "markdown",
   "metadata": {},
   "source": [
    "### Case 4 : Yellow"
   ]
  },
  {
   "cell_type": "code",
   "execution_count": 34,
   "metadata": {},
   "outputs": [],
   "source": [
    "# 40 <= Hue < 70\n",
    "# Saturation > 15 and Value > 30\n",
    "if 40 <= Hue < 70 and Saturation > 15 and Value > 30:\n",
    "    print(\"It is Yellow\")"
   ]
  },
  {
   "cell_type": "markdown",
   "metadata": {},
   "source": [
    "### Case 5 : Beige"
   ]
  },
  {
   "cell_type": "code",
   "execution_count": 35,
   "metadata": {},
   "outputs": [],
   "source": [
    "# 15 < Hue < 40 \n",
    "# 15 < Saturation < 45 and Value > 70\n",
    "if 15 < Hue < 40 and 5 < Saturation < 45 and Value > 70:\n",
    "    print(\"It is Beige\")"
   ]
  },
  {
   "cell_type": "markdown",
   "metadata": {},
   "source": [
    "### Case 6 : Green"
   ]
  },
  {
   "cell_type": "code",
   "execution_count": 36,
   "metadata": {},
   "outputs": [],
   "source": [
    "# 70 <= Hue < 170\n",
    "# Saturation > 15 and Value > 30\n",
    "if 70 <= Hue < 170 and Saturation > 15 and Value > 30:\n",
    "    print(\"It is Green\")"
   ]
  },
  {
   "cell_type": "markdown",
   "metadata": {},
   "source": [
    "### Case 7 : Blue"
   ]
  },
  {
   "cell_type": "code",
   "execution_count": 37,
   "metadata": {},
   "outputs": [],
   "source": [
    "# 170 <= Hue < 265\n",
    "# Saturation > 15 and Value > 40\n",
    "if 170 <= Hue < 265 and Saturation > 15 and Value > 30:\n",
    "    print(\"It is Blue\")"
   ]
  },
  {
   "cell_type": "markdown",
   "metadata": {},
   "source": [
    "### Case 8 : Navy"
   ]
  },
  {
   "cell_type": "code",
   "execution_count": 38,
   "metadata": {},
   "outputs": [],
   "source": [
    "# 170 <= Hue < 265\n",
    "# Saturation > 30 and 30 < Value < 40\n",
    "if 170 <= Hue < 265 and Saturation > 30 and 30 < Value < 40:\n",
    "    print(\"It is Navy\")"
   ]
  },
  {
   "cell_type": "markdown",
   "metadata": {},
   "source": [
    "### Case 9 : Purple"
   ]
  },
  {
   "cell_type": "code",
   "execution_count": 39,
   "metadata": {},
   "outputs": [],
   "source": [
    "# 265 <= Hue < 315\n",
    "# Saturation > 15 and Value > 30\n",
    "if 265 <= Hue < 315 and Saturation > 15 and Value > 30:\n",
    "    print(\"It is purple\")"
   ]
  },
  {
   "cell_type": "markdown",
   "metadata": {},
   "source": [
    "### Case 10 : Brown"
   ]
  },
  {
   "cell_type": "code",
   "execution_count": 40,
   "metadata": {},
   "outputs": [
    {
     "name": "stdout",
     "output_type": "stream",
     "text": [
      "It is Brown\n"
     ]
    }
   ],
   "source": [
    "# 15 < Hue < 40 \n",
    "# Saturation > 50 and 30 < Value < 80\n",
    "if 15 < Hue < 40 and Saturation > 50 and 30 < Value < 80:\n",
    "    print(\"It is Brown\")"
   ]
  },
  {
   "cell_type": "markdown",
   "metadata": {},
   "source": [
    "### Case 11 : Black"
   ]
  },
  {
   "cell_type": "code",
   "execution_count": 41,
   "metadata": {},
   "outputs": [],
   "source": [
    "# Hue 와 상관없이 Saturation < 15% and Value < 30%\n",
    "if Saturation < 15 and Value < 20:\n",
    "    print(\"It is Black\")"
   ]
  },
  {
   "cell_type": "markdown",
   "metadata": {},
   "source": [
    "### Case 12 : White"
   ]
  },
  {
   "cell_type": "code",
   "execution_count": 42,
   "metadata": {},
   "outputs": [],
   "source": [
    "# Hue 와 상관없이 Saturation <= 2% and Value >= 90%\n",
    "if Saturation <= 2 and Value >= 90:\n",
    "    print(\"It is White\")"
   ]
  },
  {
   "cell_type": "markdown",
   "metadata": {},
   "source": [
    "### Case 13 : Gray"
   ]
  },
  {
   "cell_type": "code",
   "execution_count": 43,
   "metadata": {},
   "outputs": [],
   "source": [
    "# Hue 와 상관없이 Saturation <= 15% and 30% <= Value < 90%\n",
    "if Saturation <= 15 and 20 <= Value < 90:\n",
    "    print(\"It is Gray\")"
   ]
  }
 ],
 "metadata": {
  "kernelspec": {
   "display_name": "Python 3",
   "language": "python",
   "name": "python3"
  },
  "language_info": {
   "codemirror_mode": {
    "name": "ipython",
    "version": 3
   },
   "file_extension": ".py",
   "mimetype": "text/x-python",
   "name": "python",
   "nbconvert_exporter": "python",
   "pygments_lexer": "ipython3",
   "version": "3.7.4"
  }
 },
 "nbformat": 4,
 "nbformat_minor": 2
}
