{
 "cells": [
  {
   "cell_type": "code",
   "execution_count": 1,
   "metadata": {
    "scrolled": true
   },
   "outputs": [
    {
     "name": "stdout",
     "output_type": "stream",
     "text": [
      "Requirement already satisfied: colormap in /usr/local/var/pyenv/versions/3.7.4/envs/mondeique-crawling/lib/python3.7/site-packages (1.0.2)\r\n"
     ]
    }
   ],
   "source": [
    "!pip install colormap"
   ]
  },
  {
   "cell_type": "code",
   "execution_count": 2,
   "metadata": {
    "scrolled": false
   },
   "outputs": [
    {
     "name": "stdout",
     "output_type": "stream",
     "text": [
      "Requirement already satisfied: easydev in /usr/local/var/pyenv/versions/3.7.4/envs/mondeique-crawling/lib/python3.7/site-packages (0.9.38)\r\n",
      "Requirement already satisfied: colorama in /usr/local/var/pyenv/versions/3.7.4/envs/mondeique-crawling/lib/python3.7/site-packages (from easydev) (0.3.9)\r\n",
      "Requirement already satisfied: pexpect in /usr/local/var/pyenv/versions/3.7.4/envs/mondeique-crawling/lib/python3.7/site-packages (from easydev) (4.7.0)\r\n",
      "Requirement already satisfied: colorlog in /usr/local/var/pyenv/versions/3.7.4/envs/mondeique-crawling/lib/python3.7/site-packages (from easydev) (4.0.2)\r\n",
      "Requirement already satisfied: ptyprocess>=0.5 in /usr/local/var/pyenv/versions/3.7.4/envs/mondeique-crawling/lib/python3.7/site-packages (from pexpect->easydev) (0.6.0)\r\n"
     ]
    }
   ],
   "source": [
    "!pip install easydev"
   ]
  },
  {
   "cell_type": "code",
   "execution_count": 3,
   "metadata": {},
   "outputs": [],
   "source": [
    "import colorgram\n",
    "\n",
    "# Extract 6 colors from an image.\n",
    "colors = colorgram.extract('/Users/eren-shin/Desktop/colorgram.py/test_3.jpeg', 6)\n",
    "\n",
    "# colorgram.extract returns Color objects, which let you access\n",
    "# RGB, HSL, and what proportion of the image was that color.\n",
    "first_color = colors[0]\n",
    "rgb = first_color.rgb # e.g. (255, 151, 210)\n",
    "hsl = first_color.hsl # e.g. (230, 255, 203)\n",
    "proportion  = first_color.proportion # e.g. 0.34\n",
    "\n",
    "# RGB and HSL are named tuples, so values can be accessed as properties.\n",
    "# These all work just as well:\n",
    "red = rgb[0]\n",
    "red = rgb.r\n",
    "saturation = hsl[1]\n",
    "saturation = hsl.s"
   ]
  },
  {
   "cell_type": "code",
   "execution_count": 4,
   "metadata": {},
   "outputs": [
    {
     "data": {
      "text/plain": [
       "<colorgram.py Color: Rgb(r=80, g=108, b=208), 43.258033447158745%>"
      ]
     },
     "execution_count": 4,
     "metadata": {},
     "output_type": "execute_result"
    }
   ],
   "source": [
    "first_color"
   ]
  },
  {
   "cell_type": "code",
   "execution_count": 5,
   "metadata": {},
   "outputs": [
    {
     "data": {
      "text/plain": [
       "[<colorgram.py Color: Rgb(r=80, g=108, b=208), 43.258033447158745%>,\n",
       " <colorgram.py Color: Rgb(r=246, g=249, b=236), 16.093161719639262%>,\n",
       " <colorgram.py Color: Rgb(r=116, g=139, b=226), 15.077488836354084%>,\n",
       " <colorgram.py Color: Rgb(r=56, g=81, b=174), 13.580246913580247%>,\n",
       " <colorgram.py Color: Rgb(r=221, g=228, b=242), 7.035285876893442%>,\n",
       " <colorgram.py Color: Rgb(r=25, g=47, b=142), 4.955783206374223%>]"
      ]
     },
     "execution_count": 5,
     "metadata": {},
     "output_type": "execute_result"
    }
   ],
   "source": [
    "colors"
   ]
  },
  {
   "cell_type": "code",
   "execution_count": 6,
   "metadata": {},
   "outputs": [
    {
     "data": {
      "text/plain": [
       "'#506CD0'"
      ]
     },
     "execution_count": 6,
     "metadata": {},
     "output_type": "execute_result"
    }
   ],
   "source": [
    "from colormap import rgb2hex\n",
    "\n",
    "rgb2hex(rgb[0], rgb[1], rgb[2])"
   ]
  }
 ],
 "metadata": {
  "kernelspec": {
   "display_name": "Python 3",
   "language": "python",
   "name": "python3"
  },
  "language_info": {
   "codemirror_mode": {
    "name": "ipython",
    "version": 3
   },
   "file_extension": ".py",
   "mimetype": "text/x-python",
   "name": "python",
   "nbconvert_exporter": "python",
   "pygments_lexer": "ipython3",
   "version": "3.7.4"
  }
 },
 "nbformat": 4,
 "nbformat_minor": 2
}
