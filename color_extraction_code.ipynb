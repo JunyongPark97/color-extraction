{
 "cells": [
  {
   "cell_type": "code",
   "execution_count": 26,
   "metadata": {
    "scrolled": false
   },
   "outputs": [
    {
     "name": "stdout",
     "output_type": "stream",
     "text": [
      "Requirement already satisfied: colormap in /usr/local/var/pyenv/versions/3.7.4/envs/mondeique-data/lib/python3.7/site-packages (1.0.2)\r\n"
     ]
    }
   ],
   "source": [
    "!pip install colormap"
   ]
  },
  {
   "cell_type": "code",
   "execution_count": 27,
   "metadata": {
    "scrolled": false
   },
   "outputs": [
    {
     "name": "stdout",
     "output_type": "stream",
     "text": [
      "Requirement already satisfied: easydev in /usr/local/var/pyenv/versions/3.7.4/envs/mondeique-data/lib/python3.7/site-packages (0.9.38)\r\n",
      "Requirement already satisfied: colorama in /usr/local/var/pyenv/versions/3.7.4/envs/mondeique-data/lib/python3.7/site-packages (from easydev) (0.3.9)\r\n",
      "Requirement already satisfied: pexpect in /usr/local/var/pyenv/versions/3.7.4/envs/mondeique-data/lib/python3.7/site-packages (from easydev) (4.7.0)\r\n",
      "Requirement already satisfied: colorlog in /usr/local/var/pyenv/versions/3.7.4/envs/mondeique-data/lib/python3.7/site-packages (from easydev) (4.0.2)\r\n",
      "Requirement already satisfied: ptyprocess>=0.5 in /usr/local/var/pyenv/versions/3.7.4/envs/mondeique-data/lib/python3.7/site-packages (from pexpect->easydev) (0.6.0)\r\n"
     ]
    }
   ],
   "source": [
    "!pip install easydev"
   ]
  },
  {
   "cell_type": "code",
   "execution_count": 28,
   "metadata": {},
   "outputs": [],
   "source": [
    "import colorgram\n",
    "\n",
    "# Extract 6 colors from an image.\n",
    "colors = colorgram.extract('/Users/eren-shin/Desktop/color-extraction/images.jpeg', 6)\n",
    "\n",
    "# colorgram.extract returns Color objects, which let you access\n",
    "# RGB, HSL, and what proportion of the image was that color.\n",
    "first_color = colors[0]\n",
    "rgb = first_color.rgb # e.g. (255, 151, 210)\n",
    "hsl = first_color.hsl # e.g. (230, 255, 203)\n",
    "proportion  = first_color.proportion # e.g. 0.34\n",
    "\n",
    "# RGB and HSL are named tuples, so values can be accessed as properties.\n",
    "# These all work just as well:\n",
    "red = rgb[0]\n",
    "red = rgb.r\n",
    "saturation = hsl[1]\n",
    "saturation = hsl.s"
   ]
  },
  {
   "cell_type": "code",
   "execution_count": 29,
   "metadata": {},
   "outputs": [
    {
     "data": {
      "text/plain": [
       "<colorgram.py Color: Rgb(r=93, g=93, b=93), 55.85330053951127%>"
      ]
     },
     "execution_count": 29,
     "metadata": {},
     "output_type": "execute_result"
    }
   ],
   "source": [
    "first_color"
   ]
  },
  {
   "cell_type": "code",
   "execution_count": 30,
   "metadata": {},
   "outputs": [
    {
     "data": {
      "text/plain": [
       "[<colorgram.py Color: Rgb(r=93, g=93, b=93), 55.85330053951127%>,\n",
       " <colorgram.py Color: Rgb(r=156, g=156, b=156), 39.65804506505871%>,\n",
       " <colorgram.py Color: Rgb(r=53, g=53, b=53), 4.224849254205014%>,\n",
       " <colorgram.py Color: Rgb(r=195, g=195, b=195), 0.2638051412250079%>]"
      ]
     },
     "execution_count": 30,
     "metadata": {},
     "output_type": "execute_result"
    }
   ],
   "source": [
    "colors"
   ]
  },
  {
   "cell_type": "markdown",
   "metadata": {},
   "source": [
    "## RGB to Hex code"
   ]
  },
  {
   "cell_type": "code",
   "execution_count": 31,
   "metadata": {},
   "outputs": [
    {
     "data": {
      "text/plain": [
       "'#5D5D5D'"
      ]
     },
     "execution_count": 31,
     "metadata": {},
     "output_type": "execute_result"
    }
   ],
   "source": [
    "from colormap import rgb2hex\n",
    "\n",
    "rgb2hex(rgb[0], rgb[1], rgb[2])"
   ]
  },
  {
   "cell_type": "markdown",
   "metadata": {},
   "source": [
    "## RGB to HSV code"
   ]
  },
  {
   "cell_type": "code",
   "execution_count": 32,
   "metadata": {},
   "outputs": [],
   "source": [
    "import colorsys\n",
    "\n",
    "Hue = colorsys.rgb_to_hsv(rgb[0]/255, rgb[1]/255, rgb[2]/255)[0]\n",
    "Saturation = colorsys.rgb_to_hsv(rgb[0]/255, rgb[1]/255, rgb[2]/255)[1]\n",
    "Value = colorsys.rgb_to_hsv(rgb[0]/255, rgb[1]/255, rgb[2]/255)[2]"
   ]
  },
  {
   "cell_type": "code",
   "execution_count": 33,
   "metadata": {},
   "outputs": [],
   "source": [
    "Hue = Hue * 360\n",
    "Saturation = Saturation * 100\n",
    "Value = Value * 100"
   ]
  },
  {
   "cell_type": "code",
   "execution_count": 34,
   "metadata": {},
   "outputs": [
    {
     "name": "stdout",
     "output_type": "stream",
     "text": [
      "0.0\n",
      "0.0\n",
      "36.470588235294116\n"
     ]
    }
   ],
   "source": [
    "print(Hue)\n",
    "print(Saturation)\n",
    "print(Value)"
   ]
  },
  {
   "cell_type": "markdown",
   "metadata": {},
   "source": [
    "## Color Range Setting"
   ]
  },
  {
   "cell_type": "code",
   "execution_count": 9,
   "metadata": {},
   "outputs": [],
   "source": [
    "# We have Red/Pink/Orange/Yellow/Beige/Green/Blue/Navy/Purple/Brown/Black/White/Gray\n",
    "# H를 먼저 정한 뒤 S와 V를 조절하면서 색을 찾아나가도록 하자. "
   ]
  },
  {
   "cell_type": "markdown",
   "metadata": {},
   "source": [
    "### Case 1 : Red"
   ]
  },
  {
   "cell_type": "code",
   "execution_count": null,
   "metadata": {},
   "outputs": [],
   "source": []
  },
  {
   "cell_type": "markdown",
   "metadata": {},
   "source": [
    "### Case 2 : Pink"
   ]
  },
  {
   "cell_type": "code",
   "execution_count": null,
   "metadata": {},
   "outputs": [],
   "source": []
  },
  {
   "cell_type": "markdown",
   "metadata": {},
   "source": [
    "### Case 3 : Orange"
   ]
  },
  {
   "cell_type": "code",
   "execution_count": null,
   "metadata": {},
   "outputs": [],
   "source": []
  },
  {
   "cell_type": "markdown",
   "metadata": {},
   "source": [
    "### Case 4 : Yellow"
   ]
  },
  {
   "cell_type": "code",
   "execution_count": null,
   "metadata": {},
   "outputs": [],
   "source": []
  },
  {
   "cell_type": "markdown",
   "metadata": {},
   "source": [
    "### Case 5 : Beige"
   ]
  },
  {
   "cell_type": "code",
   "execution_count": null,
   "metadata": {},
   "outputs": [],
   "source": []
  },
  {
   "cell_type": "markdown",
   "metadata": {},
   "source": [
    "### Case 6 : Green"
   ]
  },
  {
   "cell_type": "code",
   "execution_count": null,
   "metadata": {},
   "outputs": [],
   "source": []
  },
  {
   "cell_type": "markdown",
   "metadata": {},
   "source": [
    "### Case 7 : Blue"
   ]
  },
  {
   "cell_type": "code",
   "execution_count": null,
   "metadata": {},
   "outputs": [],
   "source": []
  },
  {
   "cell_type": "markdown",
   "metadata": {},
   "source": [
    "### Case 8 : Navy"
   ]
  },
  {
   "cell_type": "code",
   "execution_count": null,
   "metadata": {},
   "outputs": [],
   "source": []
  },
  {
   "cell_type": "markdown",
   "metadata": {},
   "source": [
    "### Case 9 : Purple"
   ]
  },
  {
   "cell_type": "code",
   "execution_count": null,
   "metadata": {},
   "outputs": [],
   "source": []
  },
  {
   "cell_type": "markdown",
   "metadata": {},
   "source": [
    "### Case 10 : Brown"
   ]
  },
  {
   "cell_type": "code",
   "execution_count": null,
   "metadata": {},
   "outputs": [],
   "source": []
  },
  {
   "cell_type": "markdown",
   "metadata": {},
   "source": [
    "### Case 11 : Black"
   ]
  },
  {
   "cell_type": "code",
   "execution_count": null,
   "metadata": {},
   "outputs": [],
   "source": [
    "# Hue 와 상관없이 Saturation < 5% and Value < 20%\n",
    "if Saturation < 5 and Value < 20:\n",
    "    print(\"It is Black\")"
   ]
  },
  {
   "cell_type": "markdown",
   "metadata": {},
   "source": [
    "### Case 12 : White"
   ]
  },
  {
   "cell_type": "code",
   "execution_count": 25,
   "metadata": {},
   "outputs": [
    {
     "name": "stdout",
     "output_type": "stream",
     "text": [
      "It is White\n"
     ]
    }
   ],
   "source": [
    "# Hue 와 상관없이 Saturation <= 2% and Value >= 90%\n",
    "if Saturation <= 2 and Value >= 90:\n",
    "    print(\"It is White\")"
   ]
  },
  {
   "cell_type": "markdown",
   "metadata": {},
   "source": [
    "### Case 13 : Gray"
   ]
  },
  {
   "cell_type": "code",
   "execution_count": 35,
   "metadata": {},
   "outputs": [
    {
     "name": "stdout",
     "output_type": "stream",
     "text": [
      "It is Gray\n"
     ]
    }
   ],
   "source": [
    "# Hue 와 상관없이 Saturation <= 5% and 20% <= Value < 90%\n",
    "if Saturation <= 5 and 20 <= Value < 90:\n",
    "    print(\"It is Gray\")"
   ]
  }
 ],
 "metadata": {
  "kernelspec": {
   "display_name": "Python 3",
   "language": "python",
   "name": "python3"
  },
  "language_info": {
   "codemirror_mode": {
    "name": "ipython",
    "version": 3
   },
   "file_extension": ".py",
   "mimetype": "text/x-python",
   "name": "python",
   "nbconvert_exporter": "python",
   "pygments_lexer": "ipython3",
   "version": "3.7.4"
  }
 },
 "nbformat": 4,
 "nbformat_minor": 2
}
