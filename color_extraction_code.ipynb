{
 "cells": [
  {
   "cell_type": "code",
   "execution_count": 1,
   "metadata": {
    "scrolled": false
   },
   "outputs": [
    {
     "name": "stdout",
     "output_type": "stream",
     "text": [
      "Collecting colormap\n",
      "  Using cached https://files.pythonhosted.org/packages/d7/18/fcfa885ada4902d754a66b1f71aa67c721bfcf25037b5fa438b0bf4f5d77/colormap-1.0.2.tar.gz\n",
      "Installing collected packages: colormap\n",
      "    Running setup.py install for colormap ... \u001b[?25ldone\n",
      "\u001b[?25hSuccessfully installed colormap-1.0.2\n"
     ]
    }
   ],
   "source": [
    "!pip install colormap"
   ]
  },
  {
   "cell_type": "code",
   "execution_count": 2,
   "metadata": {
    "scrolled": false
   },
   "outputs": [
    {
     "name": "stdout",
     "output_type": "stream",
     "text": [
      "Collecting easydev\n",
      "  Using cached https://files.pythonhosted.org/packages/e3/cf/1fe481564e7e9bbd7f65026be2b8b2d3a013022ef666c56ebc0fa875d3cc/easydev-0.9.38.tar.gz\n",
      "Requirement already satisfied: colorama in /usr/local/var/pyenv/versions/3.7.4/envs/mondeique-data/lib/python3.7/site-packages (from easydev) (0.3.9)\n",
      "Requirement already satisfied: pexpect in /usr/local/var/pyenv/versions/3.7.4/envs/mondeique-data/lib/python3.7/site-packages (from easydev) (4.7.0)\n",
      "Collecting colorlog\n",
      "  Using cached https://files.pythonhosted.org/packages/68/4d/892728b0c14547224f0ac40884e722a3d00cb54e7a146aea0b3186806c9e/colorlog-4.0.2-py2.py3-none-any.whl\n",
      "Requirement already satisfied: ptyprocess>=0.5 in /usr/local/var/pyenv/versions/3.7.4/envs/mondeique-data/lib/python3.7/site-packages (from pexpect->easydev) (0.6.0)\n",
      "Installing collected packages: colorlog, easydev\n",
      "    Running setup.py install for easydev ... \u001b[?25ldone\n",
      "\u001b[?25hSuccessfully installed colorlog-4.0.2 easydev-0.9.38\n"
     ]
    }
   ],
   "source": [
    "!pip install easydev"
   ]
  },
  {
   "cell_type": "code",
   "execution_count": 3,
   "metadata": {},
   "outputs": [],
   "source": [
    "import colorgram\n",
    "\n",
    "# Extract 6 colors from an image.\n",
    "colors = colorgram.extract('/Users/eren-shin/Desktop/color-extraction/test.jpeg', 6)\n",
    "\n",
    "# colorgram.extract returns Color objects, which let you access\n",
    "# RGB, HSL, and what proportion of the image was that color.\n",
    "first_color = colors[0]\n",
    "rgb = first_color.rgb # e.g. (255, 151, 210)\n",
    "hsl = first_color.hsl # e.g. (230, 255, 203)\n",
    "proportion  = first_color.proportion # e.g. 0.34\n",
    "\n",
    "# RGB and HSL are named tuples, so values can be accessed as properties.\n",
    "# These all work just as well:\n",
    "red = rgb[0]\n",
    "red = rgb.r\n",
    "saturation = hsl[1]\n",
    "saturation = hsl.s"
   ]
  },
  {
   "cell_type": "code",
   "execution_count": 4,
   "metadata": {},
   "outputs": [
    {
     "data": {
      "text/plain": [
       "<colorgram.py Color: Rgb(r=80, g=108, b=208), 43.258033447158745%>"
      ]
     },
     "execution_count": 4,
     "metadata": {},
     "output_type": "execute_result"
    }
   ],
   "source": [
    "first_color"
   ]
  },
  {
   "cell_type": "code",
   "execution_count": 5,
   "metadata": {},
   "outputs": [
    {
     "data": {
      "text/plain": [
       "[<colorgram.py Color: Rgb(r=80, g=108, b=208), 43.258033447158745%>,\n",
       " <colorgram.py Color: Rgb(r=246, g=249, b=236), 16.093161719639262%>,\n",
       " <colorgram.py Color: Rgb(r=116, g=139, b=226), 15.077488836354084%>,\n",
       " <colorgram.py Color: Rgb(r=56, g=81, b=174), 13.580246913580247%>,\n",
       " <colorgram.py Color: Rgb(r=221, g=228, b=242), 7.035285876893442%>,\n",
       " <colorgram.py Color: Rgb(r=25, g=47, b=142), 4.955783206374223%>]"
      ]
     },
     "execution_count": 5,
     "metadata": {},
     "output_type": "execute_result"
    }
   ],
   "source": [
    "colors"
   ]
  },
  {
   "cell_type": "markdown",
   "metadata": {},
   "source": [
    "## RGB to Hex code"
   ]
  },
  {
   "cell_type": "code",
   "execution_count": 6,
   "metadata": {},
   "outputs": [
    {
     "data": {
      "text/plain": [
       "'#506CD0'"
      ]
     },
     "execution_count": 6,
     "metadata": {},
     "output_type": "execute_result"
    }
   ],
   "source": [
    "from colormap import rgb2hex\n",
    "\n",
    "rgb2hex(rgb[0], rgb[1], rgb[2])"
   ]
  },
  {
   "cell_type": "markdown",
   "metadata": {},
   "source": [
    "## RGB to HSV code"
   ]
  },
  {
   "cell_type": "code",
   "execution_count": 7,
   "metadata": {},
   "outputs": [
    {
     "data": {
      "text/plain": [
       "(0.6302083333333334, 0.6153846153846154, 208)"
      ]
     },
     "execution_count": 7,
     "metadata": {},
     "output_type": "execute_result"
    }
   ],
   "source": [
    "import colorsys\n",
    "\n",
    "colorsys.rgb_to_hsv(rgb[0], rgb[1], rgb[2])"
   ]
  }
 ],
 "metadata": {
  "kernelspec": {
   "display_name": "Python 3",
   "language": "python",
   "name": "python3"
  },
  "language_info": {
   "codemirror_mode": {
    "name": "ipython",
    "version": 3
   },
   "file_extension": ".py",
   "mimetype": "text/x-python",
   "name": "python",
   "nbconvert_exporter": "python",
   "pygments_lexer": "ipython3",
   "version": "3.7.4"
  }
 },
 "nbformat": 4,
 "nbformat_minor": 2
}
